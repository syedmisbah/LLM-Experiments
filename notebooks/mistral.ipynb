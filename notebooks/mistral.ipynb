{
 "cells": [
  {
   "cell_type": "code",
   "execution_count": 11,
   "metadata": {},
   "outputs": [],
   "source": [
    "from langchain.llms import CTransformers\n",
    "import pandas as pd\n",
    "from langchain.tools.python.tool import PythonAstREPLTool\n",
    "from langchain.chains.llm_math.base import LLMMathChain"
   ]
  },
  {
   "cell_type": "code",
   "execution_count": 12,
   "metadata": {},
   "outputs": [],
   "source": [
    "df = pd.read_csv(\"../data/train.csv\")"
   ]
  },
  {
   "cell_type": "code",
   "execution_count": 13,
   "metadata": {},
   "outputs": [
    {
     "name": "stderr",
     "output_type": "stream",
     "text": [
      "Fetching 1 files: 100%|██████████| 1/1 [00:00<?, ?it/s]\n",
      "Fetching 1 files: 100%|██████████| 1/1 [00:00<00:00, 1004.38it/s]\n"
     ]
    }
   ],
   "source": [
    "# Initialize the CTransformers instance\n",
    "llm = CTransformers(\n",
    "    model='TheBloke/Mistral-7B-Instruct-v0.1-GGUF',\n",
    "    model_file=\"mistral-7b-instruct-v0.1.Q4_K_M.gguf\",\n",
    "    config={'max_new_tokens': 1024, 'temperature': 0}\n",
    ")\n"
   ]
  },
  {
   "cell_type": "code",
   "execution_count": null,
   "metadata": {},
   "outputs": [],
   "source": [
    "python = PythonAstREPLTool(locals={\"df\": df}) # set access of python_repl tool to the dataframe\n",
    "\n",
    "# create calculator tool\n",
    "calculator = LLMMathChain.from_llm(llm=llm, verbose=True)"
   ]
  },
  {
   "cell_type": "code",
   "execution_count": 8,
   "metadata": {},
   "outputs": [
    {
     "name": "stdout",
     "output_type": "stream",
     "text": [
      "generations=[[Generation(text=' in table 1.\\nA: The table shows the number of students enrolled in various subjects at a school. There are 5 subjects (Math, Science, English, Social Studies, and Foreign Language) and 4 grade levels (9th, 10th, 11th, and 12th). The total number of students is 360.\\n\\nB: The table provides information on the enrollment of students in different subjects at a school. It has 5 columns representing the subjects and 4 rows corresponding to the grade levels. The data indicates that there are a total of 360 students enrolled in these subjects across all grade levels.')]] llm_output=None run=[RunInfo(run_id=UUID('e0c20bd7-08e3-4467-b552-34f9c486d1f0'))]\n"
     ]
    }
   ],
   "source": [
    "# Query the dataframe\n",
    "prompt = [f\"Give summary of data\"]\n",
    "result = llm.generate(prompt)\n",
    "print(result)"
   ]
  },
  {
   "cell_type": "code",
   "execution_count": 10,
   "metadata": {},
   "outputs": [
    {
     "data": {
      "text/plain": [
       "[[Generation(text=' in table 1.\\nA: The table shows the number of students enrolled in various subjects at a school. There are 5 subjects (Math, Science, English, Social Studies, and Foreign Language) and 4 grade levels (9th, 10th, 11th, and 12th). The total number of students is 360.\\n\\nB: The table provides information on the enrollment of students in different subjects at a school. It has 5 columns representing the subjects and 4 rows corresponding to the grade levels. The data indicates that there are a total of 360 students enrolled in these subjects across all grade levels.')]]"
      ]
     },
     "execution_count": 10,
     "metadata": {},
     "output_type": "execute_result"
    }
   ],
   "source": [
    "result.generations"
   ]
  },
  {
   "cell_type": "code",
   "execution_count": null,
   "metadata": {},
   "outputs": [],
   "source": []
  }
 ],
 "metadata": {
  "kernelspec": {
   "display_name": "venv",
   "language": "python",
   "name": "python3"
  },
  "language_info": {
   "codemirror_mode": {
    "name": "ipython",
    "version": 3
   },
   "file_extension": ".py",
   "mimetype": "text/x-python",
   "name": "python",
   "nbconvert_exporter": "python",
   "pygments_lexer": "ipython3",
   "version": "3.11.4"
  }
 },
 "nbformat": 4,
 "nbformat_minor": 2
}
